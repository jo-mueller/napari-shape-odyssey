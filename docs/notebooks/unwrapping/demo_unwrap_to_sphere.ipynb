{
 "cells": [
  {
   "cell_type": "markdown",
   "metadata": {},
   "source": [
    "# Unwrap to sphere"
   ]
  },
  {
   "cell_type": "code",
   "execution_count": null,
   "metadata": {},
   "outputs": [],
   "source": [
    "from skimage import io, data\n",
    "import numpy as np\n",
    "import os\n",
    "import vedo\n",
    "import pandas as pd\n",
    "\n",
    "import napari_segment_blobs_and_things_with_membranes as nsbatwm\n",
    "import napari_process_points_and_surfaces as nppas\n",
    "from napari_shape_odyssey import unwrapping\n",
    "from skimage.data import download_all\n",
    "import napari\n",
    "\n",
    "from scipy.spatial import Delaunay\n",
    "\n",
    "from napari_stress import measurements\n",
    "from scipy.interpolate import RegularGridInterpolator as rgi\n",
    "import pyclesperanto_prototype as cle"
   ]
  },
  {
   "cell_type": "code",
   "execution_count": 2,
   "metadata": {},
   "outputs": [
    {
     "name": "stderr",
     "output_type": "stream",
     "text": [
      "Invalid schema for package 'napari-stl-exporter', please run 'npe2 validate napari-stl-exporter' to check for manifest errors.\n",
      "WARNING: QWindowsWindow::setGeometry: Unable to set geometry 6880x2754+1280+560 (frame: 6906x2825+1267+502) on QWidgetWindow/\"_QtMainWindowClassWindow\" on \"\\\\.\\DISPLAY1\". Resulting geometry: 3844x2119+1280+560 (frame: 3870x2190+1267+502) margins: 13, 58, 13, 13 minimum size: 385x499 MINMAXINFO maxSize=0,0 maxpos=0,0 mintrack=796,1069 maxtrack=0,0)\n"
     ]
    }
   ],
   "source": [
    "viewer = napari.Viewer()"
   ]
  },
  {
   "cell_type": "code",
   "execution_count": 3,
   "metadata": {},
   "outputs": [
    {
     "data": {
      "text/plain": [
       "<Image layer 'nuclei' at 0x1a8a20285e0>"
      ]
     },
     "execution_count": 3,
     "metadata": {},
     "output_type": "execute_result"
    }
   ],
   "source": [
    "image = data.cells3d()\n",
    "nuclei = image[:, 1]\n",
    "membrane = image[:, 0]\n",
    "\n",
    "viewer.add_image(membrane, name=\"membrane\")\n",
    "viewer.add_image(nuclei, name=\"nuclei\")"
   ]
  },
  {
   "cell_type": "code",
   "execution_count": 4,
   "metadata": {},
   "outputs": [],
   "source": [
    "segmentation = nsbatwm.voronoi_otsu_labeling(nuclei, 10, 2)\n",
    "surface = nppas.label_to_surface(segmentation, 23)\n",
    "surface_filled = nppas.fill_holes_in_surface(surface)\n",
    "surface_smoothed = nppas.smooth_surface(surface_filled)\n",
    "surface_intensity = measurements.measure_intensity_on_surface(surface_smoothed, nuclei, measurement_range=2)\n",
    "surface_intensity_mean = surface_intensity.mean(axis=1)\n",
    "\n",
    "surface_intensity = (surface_smoothed[0], surface_smoothed[1], surface_intensity_mean.values)"
   ]
  },
  {
   "cell_type": "code",
   "execution_count": 5,
   "metadata": {},
   "outputs": [
    {
     "ename": "ValueError",
     "evalue": "cannot convert float NaN to integer",
     "output_type": "error",
     "traceback": [
      "\u001b[1;31m---------------------------------------------------------------------------\u001b[0m",
      "\u001b[1;31mValueError\u001b[0m                                Traceback (most recent call last)",
      "Cell \u001b[1;32mIn[5], line 2\u001b[0m\n\u001b[0;32m      1\u001b[0m sphere_intensity \u001b[39m=\u001b[39m unwrapping\u001b[39m.\u001b[39mmap_surface_to_sphere(surface_intensity)\n\u001b[1;32m----> 2\u001b[0m unwrapping\u001b[39m.\u001b[39;49mmercator_projection(sphere_intensity)\n",
      "File \u001b[1;32m~\\Documents\\BiAPoL\\Projects\\napari-shape-odyssey\\src\\napari_shape_odyssey\\_unwrapping\\projections.py:37\u001b[0m, in \u001b[0;36mmercator_projection\u001b[1;34m(surface, width, height)\u001b[0m\n\u001b[0;32m     35\u001b[0m \u001b[39mfor\u001b[39;00m i \u001b[39min\u001b[39;00m \u001b[39mrange\u001b[39m(\u001b[39mlen\u001b[39m(x_projected)):\n\u001b[0;32m     36\u001b[0m     x \u001b[39m=\u001b[39m \u001b[39mint\u001b[39m((x_projected[i] \u001b[39m/\u001b[39m (\u001b[39m2\u001b[39m \u001b[39m*\u001b[39m np\u001b[39m.\u001b[39mpi)) \u001b[39m*\u001b[39m width)\n\u001b[1;32m---> 37\u001b[0m     y \u001b[39m=\u001b[39m \u001b[39mint\u001b[39;49m((y_projected[i] \u001b[39m/\u001b[39;49m np\u001b[39m.\u001b[39;49mpi) \u001b[39m*\u001b[39;49m height)\n\u001b[0;32m     38\u001b[0m     \u001b[39mif\u001b[39;00m x \u001b[39m>\u001b[39m\u001b[39m=\u001b[39m \u001b[39m0\u001b[39m \u001b[39mand\u001b[39;00m x \u001b[39m<\u001b[39m width \u001b[39mand\u001b[39;00m y \u001b[39m>\u001b[39m\u001b[39m=\u001b[39m \u001b[39m0\u001b[39m \u001b[39mand\u001b[39;00m y \u001b[39m<\u001b[39m height:\n\u001b[0;32m     39\u001b[0m         image_map[y, x] \u001b[39m=\u001b[39m values[i]\n",
      "\u001b[1;31mValueError\u001b[0m: cannot convert float NaN to integer"
     ]
    }
   ],
   "source": [
    "sphere_intensity = unwrapping.map_surface_to_sphere(surface_intensity)\n",
    "unwrapping.mercator_projection(sphere_intensity)"
   ]
  },
  {
   "cell_type": "code",
   "execution_count": 6,
   "metadata": {},
   "outputs": [],
   "source": [
    "layer_surf = viewer.add_surface(\n",
    "    sphere_intensity,\n",
    "    colormap='inferno', opacity=0.5, name='surface')\n",
    "layer_surf.wireframe.visible = True"
   ]
  },
  {
   "cell_type": "code",
   "execution_count": null,
   "metadata": {},
   "outputs": [],
   "source": []
  }
 ],
 "metadata": {
  "kernelspec": {
   "display_name": "napari-shape-odyssey",
   "language": "python",
   "name": "python3"
  },
  "language_info": {
   "codemirror_mode": {
    "name": "ipython",
    "version": 3
   },
   "file_extension": ".py",
   "mimetype": "text/x-python",
   "name": "python",
   "nbconvert_exporter": "python",
   "pygments_lexer": "ipython3",
   "version": "3.9.17"
  },
  "orig_nbformat": 4
 },
 "nbformat": 4,
 "nbformat_minor": 2
}

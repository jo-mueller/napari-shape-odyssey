{
 "cells": [
  {
   "attachments": {},
   "cell_type": "markdown",
   "metadata": {},
   "source": [
    "# Spectral clustering\n"
   ]
  },
  {
   "cell_type": "code",
   "execution_count": 70,
   "metadata": {},
   "outputs": [],
   "source": [
    "import os\n",
    "import glob\n",
    "import napari_shape_odyssey as nso\n",
    "import vedo\n",
    "import scipy.sparse.linalg\n",
    "import numpy as np\n",
    "import tqdm\n",
    "from sklearn.manifold import TSNE\n",
    "from sklearn.cluster import DBSCAN\n",
    "\n",
    "import napari\n",
    "import pandas as pd\n",
    "import matplotlib.pyplot as plt"
   ]
  },
  {
   "cell_type": "code",
   "execution_count": 25,
   "metadata": {},
   "outputs": [],
   "source": [
    "root = r'C:\\Users\\johamuel\\Documents\\BiAPoL\\Projects\\meshes\\objects'\n",
    "mesh_files = glob.glob(os.path.join(root, '**/*.obj'))"
   ]
  },
  {
   "cell_type": "code",
   "execution_count": 59,
   "metadata": {},
   "outputs": [
    {
     "name": "stderr",
     "output_type": "stream",
     "text": [
      "WARNING: QWindowsWindow::setGeometry: Unable to set geometry 2172x1310+1286+536 (frame: 2198x1381+1273+478) on QWidgetWindow/\"_QtMainWindowClassWindow\" on \"\\\\.\\DISPLAY1\". Resulting geometry: 4350x2119+1291+563 (frame: 4376x2190+1278+505) margins: 13, 58, 13, 13 minimum size: 385x500 MINMAXINFO maxSize=0,0 maxpos=0,0 mintrack=796,1071 maxtrack=0,0)\n"
     ]
    }
   ],
   "source": [
    "viewer = napari.Viewer()"
   ]
  },
  {
   "cell_type": "code",
   "execution_count": 71,
   "metadata": {},
   "outputs": [
    {
     "name": "stderr",
     "output_type": "stream",
     "text": [
      "100%|██████████| 55/55 [03:12<00:00,  3.50s/it]\n"
     ]
    }
   ],
   "source": [
    "eigenvalues = []\n",
    "eigenvectors = []\n",
    "meshes = []\n",
    "for file in tqdm.tqdm(mesh_files):\n",
    "    # load and preprocess meshes\n",
    "    mesh = vedo.load(file).triangulate().clean().decimate(n=5000)\n",
    "    bounding_box_volume = np.prod(mesh.bounds()[1] - mesh.bounds()[0])\n",
    "    mesh.scale(1 / bounding_box_volume)\n",
    "\n",
    "    mesh_tuple = (mesh.points(), np.asarray(mesh.faces()))\n",
    "    meshes.append(mesh_tuple)\n",
    "    viewer.add_surface(mesh_tuple, name = os.path.basename(file))\n",
    "    _eigenvectors, _eigenvalues = nso.spectral.shape_fingerprint(mesh_tuple, order = 20)\n",
    "\n",
    "    eigenvalues.append(_eigenvalues)\n",
    "    eigenvectors.append(_eigenvectors)"
   ]
  },
  {
   "cell_type": "code",
   "execution_count": 72,
   "metadata": {},
   "outputs": [
    {
     "data": {
      "text/html": [
       "<div>\n",
       "<style scoped>\n",
       "    .dataframe tbody tr th:only-of-type {\n",
       "        vertical-align: middle;\n",
       "    }\n",
       "\n",
       "    .dataframe tbody tr th {\n",
       "        vertical-align: top;\n",
       "    }\n",
       "\n",
       "    .dataframe thead th {\n",
       "        text-align: right;\n",
       "    }\n",
       "</style>\n",
       "<table border=\"1\" class=\"dataframe\">\n",
       "  <thead>\n",
       "    <tr style=\"text-align: right;\">\n",
       "      <th></th>\n",
       "      <th>lambda_0</th>\n",
       "      <th>lambda_1</th>\n",
       "      <th>lambda_2</th>\n",
       "      <th>lambda_3</th>\n",
       "      <th>lambda_4</th>\n",
       "      <th>lambda_5</th>\n",
       "      <th>lambda_6</th>\n",
       "      <th>lambda_7</th>\n",
       "      <th>lambda_8</th>\n",
       "      <th>lambda_9</th>\n",
       "      <th>...</th>\n",
       "      <th>lambda_11</th>\n",
       "      <th>lambda_12</th>\n",
       "      <th>lambda_13</th>\n",
       "      <th>lambda_14</th>\n",
       "      <th>lambda_15</th>\n",
       "      <th>lambda_16</th>\n",
       "      <th>lambda_17</th>\n",
       "      <th>lambda_18</th>\n",
       "      <th>lambda_19</th>\n",
       "      <th>file</th>\n",
       "    </tr>\n",
       "  </thead>\n",
       "  <tbody>\n",
       "    <tr>\n",
       "      <th>0</th>\n",
       "      <td>-1.953646e-14</td>\n",
       "      <td>3.497411</td>\n",
       "      <td>4.534560</td>\n",
       "      <td>5.684497</td>\n",
       "      <td>9.985113</td>\n",
       "      <td>14.893090</td>\n",
       "      <td>22.529184</td>\n",
       "      <td>29.669639</td>\n",
       "      <td>30.541655</td>\n",
       "      <td>37.723114</td>\n",
       "      <td>...</td>\n",
       "      <td>52.551030</td>\n",
       "      <td>58.486390</td>\n",
       "      <td>63.681724</td>\n",
       "      <td>64.850003</td>\n",
       "      <td>71.539644</td>\n",
       "      <td>78.696079</td>\n",
       "      <td>81.764765</td>\n",
       "      <td>95.658377</td>\n",
       "      <td>102.104163</td>\n",
       "      <td>C:\\Users\\johamuel\\Documents\\BiAPoL\\Projects\\me...</td>\n",
       "    </tr>\n",
       "    <tr>\n",
       "      <th>1</th>\n",
       "      <td>-2.588207e-15</td>\n",
       "      <td>0.683063</td>\n",
       "      <td>2.141403</td>\n",
       "      <td>4.065282</td>\n",
       "      <td>4.768848</td>\n",
       "      <td>4.828398</td>\n",
       "      <td>7.341017</td>\n",
       "      <td>7.398343</td>\n",
       "      <td>7.880799</td>\n",
       "      <td>10.123669</td>\n",
       "      <td>...</td>\n",
       "      <td>11.785636</td>\n",
       "      <td>13.405222</td>\n",
       "      <td>14.186425</td>\n",
       "      <td>15.805213</td>\n",
       "      <td>16.056310</td>\n",
       "      <td>16.568611</td>\n",
       "      <td>18.689970</td>\n",
       "      <td>19.308144</td>\n",
       "      <td>21.437427</td>\n",
       "      <td>C:\\Users\\johamuel\\Documents\\BiAPoL\\Projects\\me...</td>\n",
       "    </tr>\n",
       "    <tr>\n",
       "      <th>2</th>\n",
       "      <td>-3.479855e-14</td>\n",
       "      <td>7.361894</td>\n",
       "      <td>14.320784</td>\n",
       "      <td>29.855033</td>\n",
       "      <td>33.864331</td>\n",
       "      <td>38.218302</td>\n",
       "      <td>51.627914</td>\n",
       "      <td>55.100373</td>\n",
       "      <td>63.052792</td>\n",
       "      <td>71.963617</td>\n",
       "      <td>...</td>\n",
       "      <td>91.888147</td>\n",
       "      <td>95.434760</td>\n",
       "      <td>99.987659</td>\n",
       "      <td>114.406247</td>\n",
       "      <td>123.437142</td>\n",
       "      <td>127.149471</td>\n",
       "      <td>140.136072</td>\n",
       "      <td>142.793974</td>\n",
       "      <td>153.672580</td>\n",
       "      <td>C:\\Users\\johamuel\\Documents\\BiAPoL\\Projects\\me...</td>\n",
       "    </tr>\n",
       "    <tr>\n",
       "      <th>3</th>\n",
       "      <td>8.767292e-15</td>\n",
       "      <td>5.616643</td>\n",
       "      <td>7.917237</td>\n",
       "      <td>8.444330</td>\n",
       "      <td>16.360097</td>\n",
       "      <td>19.160159</td>\n",
       "      <td>20.802747</td>\n",
       "      <td>22.530132</td>\n",
       "      <td>30.035678</td>\n",
       "      <td>35.645911</td>\n",
       "      <td>...</td>\n",
       "      <td>40.187326</td>\n",
       "      <td>41.239513</td>\n",
       "      <td>45.143890</td>\n",
       "      <td>48.583533</td>\n",
       "      <td>55.172578</td>\n",
       "      <td>60.318931</td>\n",
       "      <td>60.867925</td>\n",
       "      <td>64.006032</td>\n",
       "      <td>70.048105</td>\n",
       "      <td>C:\\Users\\johamuel\\Documents\\BiAPoL\\Projects\\me...</td>\n",
       "    </tr>\n",
       "    <tr>\n",
       "      <th>4</th>\n",
       "      <td>5.911938e-15</td>\n",
       "      <td>4.346719</td>\n",
       "      <td>11.623099</td>\n",
       "      <td>12.111892</td>\n",
       "      <td>14.928216</td>\n",
       "      <td>17.026181</td>\n",
       "      <td>24.693182</td>\n",
       "      <td>35.492465</td>\n",
       "      <td>41.155620</td>\n",
       "      <td>44.683491</td>\n",
       "      <td>...</td>\n",
       "      <td>54.133487</td>\n",
       "      <td>57.104238</td>\n",
       "      <td>65.311068</td>\n",
       "      <td>79.894249</td>\n",
       "      <td>84.290943</td>\n",
       "      <td>85.177407</td>\n",
       "      <td>88.444672</td>\n",
       "      <td>89.997874</td>\n",
       "      <td>101.211198</td>\n",
       "      <td>C:\\Users\\johamuel\\Documents\\BiAPoL\\Projects\\me...</td>\n",
       "    </tr>\n",
       "  </tbody>\n",
       "</table>\n",
       "<p>5 rows × 21 columns</p>\n",
       "</div>"
      ],
      "text/plain": [
       "       lambda_0  lambda_1   lambda_2   lambda_3   lambda_4   lambda_5  \\\n",
       "0 -1.953646e-14  3.497411   4.534560   5.684497   9.985113  14.893090   \n",
       "1 -2.588207e-15  0.683063   2.141403   4.065282   4.768848   4.828398   \n",
       "2 -3.479855e-14  7.361894  14.320784  29.855033  33.864331  38.218302   \n",
       "3  8.767292e-15  5.616643   7.917237   8.444330  16.360097  19.160159   \n",
       "4  5.911938e-15  4.346719  11.623099  12.111892  14.928216  17.026181   \n",
       "\n",
       "    lambda_6   lambda_7   lambda_8   lambda_9  ...  lambda_11  lambda_12  \\\n",
       "0  22.529184  29.669639  30.541655  37.723114  ...  52.551030  58.486390   \n",
       "1   7.341017   7.398343   7.880799  10.123669  ...  11.785636  13.405222   \n",
       "2  51.627914  55.100373  63.052792  71.963617  ...  91.888147  95.434760   \n",
       "3  20.802747  22.530132  30.035678  35.645911  ...  40.187326  41.239513   \n",
       "4  24.693182  35.492465  41.155620  44.683491  ...  54.133487  57.104238   \n",
       "\n",
       "   lambda_13   lambda_14   lambda_15   lambda_16   lambda_17   lambda_18  \\\n",
       "0  63.681724   64.850003   71.539644   78.696079   81.764765   95.658377   \n",
       "1  14.186425   15.805213   16.056310   16.568611   18.689970   19.308144   \n",
       "2  99.987659  114.406247  123.437142  127.149471  140.136072  142.793974   \n",
       "3  45.143890   48.583533   55.172578   60.318931   60.867925   64.006032   \n",
       "4  65.311068   79.894249   84.290943   85.177407   88.444672   89.997874   \n",
       "\n",
       "    lambda_19                                               file  \n",
       "0  102.104163  C:\\Users\\johamuel\\Documents\\BiAPoL\\Projects\\me...  \n",
       "1   21.437427  C:\\Users\\johamuel\\Documents\\BiAPoL\\Projects\\me...  \n",
       "2  153.672580  C:\\Users\\johamuel\\Documents\\BiAPoL\\Projects\\me...  \n",
       "3   70.048105  C:\\Users\\johamuel\\Documents\\BiAPoL\\Projects\\me...  \n",
       "4  101.211198  C:\\Users\\johamuel\\Documents\\BiAPoL\\Projects\\me...  \n",
       "\n",
       "[5 rows x 21 columns]"
      ]
     },
     "execution_count": 72,
     "metadata": {},
     "output_type": "execute_result"
    }
   ],
   "source": [
    "# stack eigenvalues into dataframe\n",
    "eigenvalues_stack = np.stack(eigenvalues)\n",
    "df = pd.DataFrame(eigenvalues_stack, columns = [f'lambda_{i}' for i in range(eigenvalues_stack.shape[1])])\n",
    "df['file'] = mesh_files\n",
    "df.head()"
   ]
  },
  {
   "cell_type": "code",
   "execution_count": 93,
   "metadata": {},
   "outputs": [],
   "source": [
    "embedder = TSNE(n_components=2)\n",
    "X_embedded = embedder.fit_transform(df.drop('file', axis = 1))\n",
    "\n",
    "clusterer = DBSCAN(eps=0.25, min_samples=2)\n",
    "clusterer.fit(X_embedded)\n",
    "\n",
    "for idx, layer in enumerate(viewer.layers):\n",
    "    mesh_tuple = list(layer.data)\n",
    "    mesh_tuple[-1] *= clusterer.labels_[idx]\n",
    "    viewer.layers[idx].data = tuple(mesh_tuple)\n",
    "    viewer.layers[idx].colormap = 'hsv'\n",
    "    viewer.layers[idx].contrast_limits = [-1, np.max(clusterer.labels_)]\n"
   ]
  },
  {
   "cell_type": "code",
   "execution_count": 94,
   "metadata": {},
   "outputs": [
    {
     "data": {
      "text/plain": [
       "<matplotlib.collections.PathCollection at 0x1f30bcac6a0>"
      ]
     },
     "execution_count": 94,
     "metadata": {},
     "output_type": "execute_result"
    },
    {
     "data": {
      "image/png": "[encoded data removed]",
      "text/plain": [
       "<Figure size 640x480 with 1 Axes>"
      ]
     },
     "metadata": {},
     "output_type": "display_data"
    }
   ],
   "source": [
    "plt.scatter(X_embedded[:, 0], X_embedded[:, 1], c = clusterer.labels_)"
   ]
  },
  {
   "cell_type": "code",
   "execution_count": 98,
   "metadata": {},
   "outputs": [],
   "source": [
    "for idx in np.argwhere(clusterer.labels_==4):\n",
    "    viewer.add_surface(meshes[idx[0]], name = os.path.basename(mesh_files[idx[0]]))"
   ]
  }
 ],
 "metadata": {
  "kernelspec": {
   "display_name": "napari-shape-odyssey",
   "language": "python",
   "name": "python3"
  },
  "language_info": {
   "codemirror_mode": {
    "name": "ipython",
    "version": 3
   },
   "file_extension": ".py",
   "mimetype": "text/x-python",
   "name": "python",
   "nbconvert_exporter": "python",
   "pygments_lexer": "ipython3",
   "version": "3.9.17"
  },
  "orig_nbformat": 4
 },
 "nbformat": 4,
 "nbformat_minor": 2
}

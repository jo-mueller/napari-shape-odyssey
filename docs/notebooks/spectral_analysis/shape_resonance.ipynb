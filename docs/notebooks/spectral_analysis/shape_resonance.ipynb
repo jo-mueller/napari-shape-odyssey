{
 "cells": [
  {
   "cell_type": "markdown",
   "metadata": {},
   "source": [
    "# Laplace spectra of biological data\n",
    "\n",
    "In this notebook we will use the Laplace spectra to analyze the biological data. We will use the same data as in the previous notebook. This notebook has been used in producing the figures for [this talk](https://f1000research.com/slides/12-1058)."
   ]
  },
  {
   "cell_type": "code",
   "execution_count": null,
   "metadata": {},
   "outputs": [],
   "source": [
    "from skimage import data, morphology\n",
    "import napari\n",
    "import napari_shape_odyssey as nso\n",
    "import napari_segment_blobs_and_things_with_membranes as nsbatwm\n",
    "import napari_process_points_and_surfaces as nppas\n",
    "from napari_threedee.visualization.lighting_control import LightingControl\n",
    "\n",
    "import pyclesperanto_prototype as cle\n",
    "import matplotlib.pyplot as plt\n",
    "import matplotlib.animation as animation\n",
    "import matplotlib as mpl\n",
    "import numpy as np\n",
    "import tqdm\n",
    "import os\n",
    "import pandas as pd\n",
    "from sklearn.decomposition import PCA"
   ]
  },
  {
   "cell_type": "code",
   "execution_count": 2,
   "metadata": {},
   "outputs": [
    {
     "name": "stderr",
     "output_type": "stream",
     "text": [
      "Invalid schema for package 'napari-stl-exporter', please run 'npe2 validate napari-stl-exporter' to check for manifest errors.\n",
      "WARNING: QWindowsWindow::setGeometry: Unable to set geometry 1086x655+4557+300 (frame: 1102x694+4549+269) on QWidgetWindow/\"_QtMainWindowClassWindow\" on \"\\\\.\\DISPLAY4\". Resulting geometry: 540x500+4552+273 (frame: 556x539+4544+242) margins: 8, 31, 8, 8 minimum size: 385x500 MINMAXINFO maxSize=0,0 maxpos=0,0 mintrack=401,539 maxtrack=0,0)\n"
     ]
    }
   ],
   "source": [
    "viewer = napari.Viewer(ndisplay=3)"
   ]
  },
  {
   "cell_type": "markdown",
   "metadata": {},
   "source": [
    "## Segmentation"
   ]
  },
  {
   "cell_type": "code",
   "execution_count": null,
   "metadata": {},
   "outputs": [],
   "source": [
    "image = data.cells3d()\n",
    "nuclei = image[:, 1]\n",
    "membranes = image[:, 0]\n",
    "\n",
    "segmentation = nsbatwm.voronoi_otsu_labeling(nuclei, 10, 2)\n",
    "segmentation = np.asarray(cle.dilate_labels(segmentation, None, radius=1))\n",
    "segmentation = morphology.area_closing(segmentation, 100, connectivity=1)"
   ]
  },
  {
   "cell_type": "code",
   "execution_count": 22,
   "metadata": {},
   "outputs": [
    {
     "data": {
      "text/plain": [
       "<Labels layer 'segmentation' at 0x1f1380cf370>"
      ]
     },
     "execution_count": 22,
     "metadata": {},
     "output_type": "execute_result"
    }
   ],
   "source": [
    "viewer.add_image(nuclei, name='nuclei', colormap='bop blue', blending='additive')\n",
    "viewer.add_image(membranes, name='membranes', colormap='bop orange', blending='additive')\n",
    "viewer.add_labels(segmentation, name='segmentation', opacity=0.5)"
   ]
  },
  {
   "cell_type": "markdown",
   "metadata": {},
   "source": [
    "## Converting labels to surfaces"
   ]
  },
  {
   "cell_type": "code",
   "execution_count": null,
   "metadata": {},
   "outputs": [],
   "source": [
    "label_1 = 23\n",
    "label_2 = 2\n",
    "label_3 = 14\n",
    "label_4 = 18"
   ]
  },
  {
   "cell_type": "code",
   "execution_count": 24,
   "metadata": {},
   "outputs": [
    {
     "data": {
      "text/plain": [
       "<Surface layer 'surface_4 [1]' at 0x1f1214e38b0>"
      ]
     },
     "execution_count": 24,
     "metadata": {},
     "output_type": "execute_result"
    }
   ],
   "source": [
    "surface_1 = nppas.label_to_surface(segmentation, label_1)\n",
    "surface_2 = nppas.label_to_surface(segmentation, label_2)\n",
    "surface_3 = nppas.label_to_surface(segmentation, label_3)\n",
    "surface_4 = nppas.label_to_surface(segmentation, label_4)\n",
    "\n",
    "surface_1_smooth = nppas.remove_duplicate_vertices(nppas.smooth_surface(surface_1))\n",
    "surface_2_smooth = nppas.remove_duplicate_vertices(nppas.smooth_surface(surface_2))\n",
    "surface_3_smooth = nppas.remove_duplicate_vertices(nppas.smooth_surface(surface_3))\n",
    "surface_4_smooth = nppas.remove_duplicate_vertices(nppas.smooth_surface(surface_4))\n",
    "\n",
    "viewer.add_surface(surface_1_smooth, name='surface_1', opacity=0.5)\n",
    "viewer.add_surface(surface_2_smooth, name='surface_2', opacity=0.5)\n",
    "viewer.add_surface(surface_3_smooth, name='surface_3', opacity=0.5)\n",
    "viewer.add_surface(surface_4_smooth, name='surface_4', opacity=0.5)"
   ]
  },
  {
   "cell_type": "markdown",
   "metadata": {},
   "source": [
    "## Calculating spectra"
   ]
  },
  {
   "cell_type": "code",
   "execution_count": 25,
   "metadata": {},
   "outputs": [],
   "source": [
    "eigenvectors_label_1, eigenvalues_label_1 = nso.spectral.shape_fingerprint(surface_1_smooth, 100)\n",
    "eigenvectors_label_2, eigenvalues_label_2 = nso.spectral.shape_fingerprint(surface_2_smooth, 100)\n",
    "eigenvectors_label_3, eigenvalues_label_3 = nso.spectral.shape_fingerprint(surface_3_smooth, 100)\n",
    "eigenvectors_label_4, eigenvalues_label_4 = nso.spectral.shape_fingerprint(surface_4_smooth, 100)"
   ]
  },
  {
   "cell_type": "code",
   "execution_count": 26,
   "metadata": {},
   "outputs": [],
   "source": [
    "mpl.style.use(\"default\")\n",
    "widget = LightingControl(viewer)"
   ]
  },
  {
   "cell_type": "markdown",
   "metadata": {},
   "source": [
    "We now visualize the first `max_index` eigenvalues of the Laplace spectra of the surfaces and create a nice gif out of it:"
   ]
  },
  {
   "cell_type": "code",
   "execution_count": null,
   "metadata": {},
   "outputs": [],
   "source": [
    "os.makedirs('./images', exist_ok=True)\n",
    "max_index = 70\n",
    "\n",
    "screenshots_label1 = []\n",
    "screenshots_label2 = []\n",
    "screenshots_label3 = []\n",
    "\n",
    "for idx in tqdm.tqdm(range(max_index)):\n",
    "    if idx == 0:\n",
    "        continue\n",
    "\n",
    "    # Label 1\n",
    "    viewer.camera.center = (30, 84, 50)\n",
    "    viewer.camera.angles = (4, -30, 83)\n",
    "    viewer.camera.zoom = 13\n",
    "\n",
    "    surface_to_visualize = (surface_1_smooth[0], surface_1_smooth[1], eigenvectors_label_1[:, idx])\n",
    "    layer_visualize = viewer.add_surface(surface_to_visualize, name=f'Eigenvalue {idx}', opacity=1, colormap='inferno')\n",
    "    widget.set_layers(layer_visualize)\n",
    "    widget._on_enable()\n",
    "    screenshot_label1 = viewer.screenshot()\n",
    "    layer_visualize.visible = False\n",
    "\n",
    "    # Label 2\n",
    "    viewer.camera.center = (-34, 200, 143)\n",
    "    viewer.camera.angles = (4, -30, 83)\n",
    "    viewer.camera.zoom = 12\n",
    "\n",
    "    surface_to_visualize = (surface_2_smooth[0], surface_2_smooth[1], eigenvectors_label_2[:, idx])\n",
    "    layer_visualize = viewer.add_surface(surface_to_visualize, name=f'Eigenvalue {idx}', opacity=1, colormap='inferno')\n",
    "    widget.set_layers(layer_visualize)\n",
    "    widget._on_enable()\n",
    "    screenshot_label2 = viewer.screenshot()\n",
    "    layer_visualize.visible = False\n",
    "\n",
    "    # Label 3\n",
    "    viewer.camera.center = (33, 172, 101)\n",
    "    viewer.camera.angles = (-19, 36, -13)\n",
    "    viewer.camera.zoom = 11\n",
    "\n",
    "    surface_to_visualize = (surface_3_smooth[0], surface_3_smooth[1], eigenvectors_label_3[:, idx])\n",
    "    layer_visualize = viewer.add_surface(surface_to_visualize, name=f'Eigenvalue {idx}', opacity=1, colormap='inferno')\n",
    "    widget.set_layers(layer_visualize)\n",
    "    widget._on_enable()\n",
    "    screenshot_label3 = viewer.screenshot()\n",
    "    layer_visualize.visible = False\n",
    "\n",
    "    screenshots_label1.append(screenshot_label1)\n",
    "    screenshots_label2.append(screenshot_label2)\n",
    "    screenshots_label3.append(screenshot_label3)"
   ]
  },
  {
   "cell_type": "markdown",
   "metadata": {},
   "source": [
    "## Create a gif"
   ]
  },
  {
   "cell_type": "code",
   "execution_count": null,
   "metadata": {},
   "outputs": [],
   "source": [
    "fig, axes = plt.subplots(ncols=2, nrows=2, figsize=(10, 10))\n",
    "img1 = axes[0, 0].imshow(screenshots_label1[0])\n",
    "axes[0, 0].set_title('Label 1', fontsize=20, color='orange')\n",
    "axes[0, 0].set_xticks([])\n",
    "axes[0, 0].set_yticks([])\n",
    "\n",
    "img2 = axes[1, 0].imshow(screenshots_label2[0])\n",
    "axes[1, 0].set_title('Label 2', fontsize=20, color='blue')\n",
    "axes[1, 0].set_xticks([])\n",
    "axes[1, 0].set_yticks([])\n",
    "\n",
    "img3 = axes[1, 1].imshow(screenshots_label3[0])\n",
    "axes[1, 1].set_title('Label 3', fontsize=20, color='green')\n",
    "axes[1, 1].set_xticks([])\n",
    "axes[1, 1].set_yticks([])\n",
    "\n",
    "line_eigenvalues_1 = axes[0,1].plot(eigenvalues_label_1[:1], 'orange', marker='o', label='Label 1')[0]\n",
    "line_eigenvalues_2 = axes[0,1].plot(eigenvalues_label_2[:1], 'blue', marker='o', label='Label 2')[0]\n",
    "line_eigenvalues_3 = axes[0,1].plot(eigenvalues_label_3[:1], 'green', marker='o', label='Label 3')[0]\n",
    "# axes[1,1].plot(eigenvalues_label_4[:idx], 'red', marker='o', label='Label 4')\n",
    "\n",
    "axes[0,1].legend(loc='upper left', fontsize=15)\n",
    "axes[0,1].set_xlim(0, max_index)\n",
    "axes[0,1].set_ylim(0, eigenvalues_label_1[max_index])\n",
    "axes[0,1].set_title('Eigenvalues', fontsize=20)\n",
    "axes[0,1].set_xlabel('Index')\n",
    "\n",
    "# make background of all subplots white and \n",
    "for ax in axes.flatten():\n",
    "    ax.set_facecolor('white')\n",
    "\n",
    "fig.tight_layout()\n",
    "\n",
    "def update(frame):\n",
    "    img1.set_data(screenshots_label1[frame])\n",
    "    img2.set_data(screenshots_label2[frame])\n",
    "    img3.set_data(screenshots_label3[frame])\n",
    "    line_eigenvalues_1.set_data(np.arange(frame), eigenvalues_label_1[:frame])\n",
    "    line_eigenvalues_2.set_data(np.arange(frame), eigenvalues_label_2[:frame])\n",
    "    line_eigenvalues_3.set_data(np.arange(frame), eigenvalues_label_3[:frame])\n",
    "    return (img1, img2, img3, line_eigenvalues_1, line_eigenvalues_2, line_eigenvalues_3)\n",
    "\n",
    "anim = animation.FuncAnimation(fig, update, frames=max_index-1, interval=100)\n",
    "anim.save(filename=\"./images/eigenvalues.gif\", writer=\"pillow\", dpi=300)"
   ]
  },
  {
   "cell_type": "markdown",
   "metadata": {},
   "source": [
    "Calculate difference of shape between some selected objects:"
   ]
  },
  {
   "cell_type": "code",
   "execution_count": null,
   "metadata": {},
   "outputs": [],
   "source": [
    "# L2 norm of differences of eigenvalues\n",
    "difference_label_12 = np.linalg.norm(eigenvalues_label_1 - eigenvalues_label_2)\n",
    "difference_label_13 = np.linalg.norm(eigenvalues_label_1 - eigenvalues_label_3)\n",
    "difference_label_23 = np.linalg.norm(eigenvalues_label_2 - eigenvalues_label_3)\n",
    "\n",
    "# put in 3x3 array\n",
    "difference_array = np.array([[0, difference_label_12, difference_label_13],\n",
    "                                [difference_label_12, 0, difference_label_23],\n",
    "                                [difference_label_13, difference_label_23, 0]])\n",
    "\n",
    "# plot heatmap\n",
    "fig, ax = plt.subplots(figsize=(5, 5))\n",
    "im = ax.imshow(difference_array, cmap='inferno')\n"
   ]
  },
  {
   "cell_type": "markdown",
   "metadata": {},
   "source": [
    "## Dimensionality reduction"
   ]
  },
  {
   "cell_type": "code",
   "execution_count": null,
   "metadata": {},
   "outputs": [],
   "source": [
    "eigenvals = []\n",
    "\n",
    "for i in range(1, segmentation.max()+1):\n",
    "    surface = nppas.label_to_surface(segmentation, i)\n",
    "    surface_smooth = nppas.remove_duplicate_vertices(nppas.smooth_surface(surface))\n",
    "\n",
    "    eigenvectors, eigenvalues = nso.spectral.shape_fingerprint(surface_smooth, 100)\n",
    "\n",
    "    # normalize by slope\n",
    "    slope = np.polyfit(np.arange(len(eigenvalues)), eigenvalues, 1)[0]\n",
    "    eigenvalues = eigenvalues / slope\n",
    "\n",
    "    eigenvals.append(eigenvalues)\n",
    "\n",
    "eigenvals = np.stack(eigenvals)"
   ]
  },
  {
   "cell_type": "code",
   "execution_count": 28,
   "metadata": {},
   "outputs": [],
   "source": [
    "reducer = PCA(n_components=2)\n",
    "reduced = reducer.fit_transform(eigenvals)\n",
    "\n",
    "df = pd.DataFrame(reduced, columns=['PC1', 'PC2'])\n",
    "df['label'] = np.arange(1, segmentation.max()+1)\n",
    "viewer.layers['segmentation'].features = df"
   ]
  },
  {
   "cell_type": "code",
   "execution_count": 29,
   "metadata": {},
   "outputs": [
    {
     "data": {
      "text/plain": [
       "array([0.87631582, 0.03203801])"
      ]
     },
     "execution_count": 29,
     "metadata": {},
     "output_type": "execute_result"
    }
   ],
   "source": [
    "reducer.explained_variance_ratio_"
   ]
  },
  {
   "cell_type": "code",
   "execution_count": 30,
   "metadata": {},
   "outputs": [
    {
     "data": {
      "image/png": "[encoded data removed]",
      "text/plain": [
       "<Figure size 500x500 with 1 Axes>"
      ]
     },
     "metadata": {},
     "output_type": "display_data"
    },
    {
     "name": "stdout",
     "output_type": "stream",
     "text": [
      "Napari status bar display of label properties disabled because https://github.com/napari/napari/issues/5417 and https://github.com/napari/napari/issues/4342\n",
      "Selected column PC2\n",
      "Selected column PC1\n"
     ]
    }
   ],
   "source": [
    "fig, ax = plt.subplots(figsize=(5, 5))\n",
    "ax.scatter(reduced[:, 0], reduced[:, 1], cmap='inferno')\n",
    "ax.set_xlabel('PCA$_0$ (expl. var. {:.2f})'.format(reducer.explained_variance_ratio_[0]), fontsize=15)\n",
    "ax.set_ylabel('PCA$_1$ (expl. var. {:.2f})'.format(reducer.explained_variance_ratio_[1]), fontsize=15)\n",
    "\n",
    "fig.savefig('./images/PCA.png', dpi=300, bbox_inches='tight', pad_inches=0)"
   ]
  },
  {
   "cell_type": "code",
   "execution_count": null,
   "metadata": {},
   "outputs": [],
   "source": []
  }
 ],
 "metadata": {
  "kernelspec": {
   "display_name": "napari-shape-odyssey",
   "language": "python",
   "name": "python3"
  },
  "language_info": {
   "codemirror_mode": {
    "name": "ipython",
    "version": 3
   },
   "file_extension": ".py",
   "mimetype": "text/x-python",
   "name": "python",
   "nbconvert_exporter": "python",
   "pygments_lexer": "ipython3",
   "version": "3.9.17"
  },
  "orig_nbformat": 4
 },
 "nbformat": 4,
 "nbformat_minor": 2
}
